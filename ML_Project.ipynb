{
 "cells": [
  {
   "cell_type": "code",
   "execution_count": 1,
   "metadata": {},
   "outputs": [],
   "source": [
    "import numpy as np \n",
    "import uproot as ur\n",
    "import matplotlib.pyplot as plt\n",
    "\n",
    "from xgboost import XGBClassifier\n",
    "from sklearn.model_selection import train_test_split, RandomizedSearchCV, StratifiedKFold\n",
    "from sklearn.metrics import accuracy_score, roc_curve, auc, recall_score, precision_score, RocCurveDisplay, PrecisionRecallDisplay\n",
    "#from sklearn.utils import resample\n",
    "#from utils import Logger, make_file_name, save_model, logloss_plot, auc_plot, aucpr_plot, roc_curve, pr_curve"
   ]
  },
  {
   "cell_type": "code",
   "execution_count": 2,
   "metadata": {},
   "outputs": [],
   "source": [
    "random_seed = 135\n",
    "sigfile = ur.open('train_sig_rare_lowQ_wPreselBDT_v6.root')\n",
    "bkgfile = ur.open('train_bkg_data_sideBands_lowQ_wPreselBDT_v5.root')"
   ]
  },
  {
   "cell_type": "code",
   "execution_count": 14,
   "metadata": {},
   "outputs": [],
   "source": [
    "features = ['Bprob', 'BsLxy', 'L2iso/L2pt', 'Bcos', 'Kiso/Kpt', 'LKdz', 'LKdr', 'Passymetry', 'Kip3d/Kip3dErr', 'L1id', 'L2id']\n",
    "sample_weights = 'trig_wgt'\n",
    "preselection = '(KLmassD0 > 2.) & ((Mll>1.05) & (Mll<2.45))'\n",
    "\n",
    "sig_dict = sigfile['mytree'].arrays(features, library='np', cut=preselection)\n",
    "bkg_dict = bkgfile['mytree'].arrays(features, library='np', cut=preselection)"
   ]
  },
  {
   "cell_type": "code",
   "execution_count": null,
   "metadata": {},
   "outputs": [],
   "source": [
    "backgr = np.stack(list(bkg_dict.values()))\n",
    "signal = np.stack(list(sig_dict.values()))\n",
    "\n",
    "sig_weight = sigfile['mytree'].arrays(sample_weights, library='np', cut=preselection)[sample_weights]\n",
    "bkg_weight = np.ones(backgr.shape[1])\n",
    "\n",
    "X = np.transpose(np.concatenate((signal, backgr), axis=1))\n",
    "y = np.concatenate((np.ones(signal.shape[1]), np.zeros(backgr.shape[1])))\n",
    "weights = np.concatenate((sig_weight, bkg_weight))"
   ]
  }
 ],
 "metadata": {
  "kernelspec": {
   "display_name": "Python 3",
   "language": "python",
   "name": "python3"
  },
  "language_info": {
   "codemirror_mode": {
    "name": "ipython",
    "version": 3
   },
   "file_extension": ".py",
   "mimetype": "text/x-python",
   "name": "python",
   "nbconvert_exporter": "python",
   "pygments_lexer": "ipython3",
   "version": "3.10.13"
  }
 },
 "nbformat": 4,
 "nbformat_minor": 2
}
