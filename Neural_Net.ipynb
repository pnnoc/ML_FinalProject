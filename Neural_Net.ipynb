{
 "cells": [
  {
   "cell_type": "code",
   "execution_count": 2,
   "metadata": {},
   "outputs": [
    {
     "name": "stdout",
     "output_type": "stream",
     "text": [
      "System Platform:  linux\n",
      "System Python Version: 3.10.16 | packaged by conda-forge | (main, Dec  5 2024, 14:16:10) [GCC 13.3.0]\n",
      "PyTorch version 2.6.0\n",
      "Numpy version 2.1.3\n"
     ]
    }
   ],
   "source": [
    "import os\n",
    "import time\n",
    "import random\n",
    "import sys\n",
    "import numpy as np # type: ignore\n",
    "import matplotlib.pyplot as plt # type: ignore\n",
    "from tqdm import tqdm # type: ignore\n",
    "\n",
    "import torch # type: ignore\n",
    "import torch.nn as nn # type: ignore\n",
    "import torch.nn.functional as F # type: ignore\n",
    "import torch.optim as optim # type: ignore\n",
    "from torch.utils.data import Dataset, DataLoader # type: ignore\n",
    "\n",
    "import uproot as ur # type: ignore\n",
    "\n",
    "print(\"System Platform: \", sys.platform)\n",
    "print('System Python Version:', sys.version)\n",
    "print('PyTorch version', torch.__version__)\n",
    "print('Numpy version', np.__version__)"
   ]
  },
  {
   "cell_type": "markdown",
   "metadata": {},
   "source": [
    "Preliminary Data Manipulation"
   ]
  },
  {
   "cell_type": "code",
   "execution_count": 3,
   "metadata": {},
   "outputs": [],
   "source": [
    "background_data_file_name = \"train_bkg_data_sideBands_lowQ_wPreselBDT_v5.root\"\n",
    "signal_data_file_name = \"train_sig_rare_lowQ_wPreselBDT_v6.root\"\n",
    "\n",
    "background_data_file = ur.open(background_data_file_name)\n",
    "signal_data_file = ur.open(signal_data_file_name)"
   ]
  },
  {
   "cell_type": "code",
   "execution_count": 4,
   "metadata": {},
   "outputs": [],
   "source": [
    "features = ['Bprob', 'BsLxy', 'L2iso/L2pt', 'Bcos', 'Kiso/Kpt', 'LKdz', 'LKdr', 'Passymetry', 'Kip3d/Kip3dErr', 'L1id', 'L2id']\n",
    "sample_weights = 'trig_wgt'\n",
    "preselection = '(KLmassD0 > 2.) & ((Mll>1.05) & (Mll<2.45))'\n",
    "\n",
    "sig_dict = signal_data_file['mytree'].arrays(features, library='np', cut=preselection)\n",
    "bkg_dict = background_data_file['mytree'].arrays(features, library='np', cut=preselection)"
   ]
  },
  {
   "cell_type": "code",
   "execution_count": 5,
   "metadata": {},
   "outputs": [],
   "source": [
    "backgr = np.stack(list(bkg_dict.values()))\n",
    "signal = np.stack(list(sig_dict.values()))\n",
    "\n",
    "sig_weight = signal_data_file['mytree'].arrays(sample_weights, library='np', cut=preselection)[sample_weights]\n",
    "bkg_weight = np.ones(backgr.shape[1])\n",
    "\n",
    "X = np.transpose(np.concatenate((signal, backgr), axis=1))\n",
    "y = np.concatenate((np.ones(signal.shape[1]), np.zeros(backgr.shape[1])))\n",
    "weights = np.concatenate((sig_weight, bkg_weight))"
   ]
  },
  {
   "cell_type": "code",
   "execution_count": 16,
   "metadata": {},
   "outputs": [],
   "source": [
    "sample_X = np.array([[1,2,3],\n",
    "                     [4,5,6],\n",
    "                     [7,8,9]])\n",
    "sample_y = np.array([1,1,0])"
   ]
  },
  {
   "cell_type": "markdown",
   "metadata": {},
   "source": [
    "Dataset & DataLoader Instantiation"
   ]
  },
  {
   "cell_type": "code",
   "execution_count": null,
   "metadata": {},
   "outputs": [],
   "source": [
    "class Transform:\n",
    "    def __call__(self, data: np.ndarray):\n",
    "        return data\n",
    "\n",
    "class Normalize(Transform):\n",
    "    def __call__(self, data: np.ndarray):\n",
    "        data = data.astype(np.float64)\n",
    "\n",
    "        min_values = np.min(data, axis=0)\n",
    "        max_values = np.max(data, axis=0)\n",
    "\n",
    "        data -= min_values\n",
    "        data /= (max_values - min_values)\n",
    "\n",
    "        return data\n"
   ]
  },
  {
   "cell_type": "code",
   "execution_count": null,
   "metadata": {},
   "outputs": [],
   "source": [
    "class ParticlesDataset(Dataset):\n",
    "    def __init__(self, data: np.ndarray, labels: np.ndarray, transform: Transform = Transform()):\n",
    "        self.data = torch.tensor(transform(data), dtype=torch.float32)\n",
    "        self.labels = torch.tensor(labels, dtype=torch.long)\n",
    "\n",
    "    def __len__(self):\n",
    "        return self.data.shape[0]\n",
    "    \n",
    "    def __getitem__(self, index):\n",
    "        return (self.data[index], self.labels[index])\n",
    "    \n",
    "    @property\n",
    "    def classes(self):\n",
    "        return ['Background', 'Signal']\n",
    "    \n",
    "    @property\n",
    "    def features(self):\n",
    "        return ['Bprob', 'BsLxy', 'L2iso/L2pt', 'Bcos', 'Kiso/Kpt', 'LKdz', 'LKdr', 'Passymetry', 'Kip3d/Kip3dErr', 'L1id', 'L2id']\n",
    "    "
   ]
  },
  {
   "cell_type": "code",
   "execution_count": 29,
   "metadata": {},
   "outputs": [],
   "source": [
    "dataset = ParticlesDataset(data=X, labels=y, transform=Normalize())\n",
    "dataloader = DataLoader(dataset=dataset, batch_size=32, shuffle=True)"
   ]
  },
  {
   "cell_type": "markdown",
   "metadata": {},
   "source": [
    "Shallow/Narrow Architecture:\n",
    "This will be a very simple and smaller model that will act as a performance baseline. It won't have very many layers or very many nodes in each layer. \n",
    "Below is the original starting point I used for this architecture, this may be subject to change. \n",
    "\n",
    "Original Layers:\n",
    "\n",
    "    Input ReLU Linear 12 -> 32\n",
    "\n",
    "    Hidden ReLU Linear 32 -> 16\n",
    "\n",
    "    Output Sigmoid Linear 16 -> 1"
   ]
  },
  {
   "cell_type": "markdown",
   "metadata": {},
   "source": [
    "Deep/Narrow Architecture:\n",
    "There will be more layers in this model, but the amount of nodes per layer will remain relatively smaller. The amount of nodes per layer will also remain balanced.\n",
    "Below is the original starting point I used for this architecture, this may be subject to change. \n",
    "\n",
    "Original Layers:\n",
    "\n",
    "    Input ReLU Linear 12 -> 32\n",
    "\n",
    "    Hidden ReLu Linear 32 -> 32\n",
    "\n",
    "    Hidden ReLu Linear 32 -> 32\n",
    "\n",
    "    Hidden ReLu Linear 32 -> 32\n",
    "\n",
    "    Hidden ReLu Linear 32 -> 32\n",
    "\n",
    "    Hidden ReLu Linear 32 -> 32\n",
    "\n",
    "    Hidden ReLu Linear 32 -> 32\n",
    "\n",
    "    Hidden ReLU Linear 32 -> 16\n",
    "\n",
    "    Output Sigmoid Linear 16 -> 1"
   ]
  },
  {
   "cell_type": "markdown",
   "metadata": {},
   "source": [
    "Shallow/Wide Architecture: There will be relatively less layers in this one, but more nodes in each one. \n",
    "Below is the original starting point I used for this architecture, this may be subject to change. \n",
    "\n",
    "Original Layers:\n",
    "\n",
    "    Input ReLU Linear 12 -> 64\n",
    "\n",
    "    Hidden ReLU Linear 64 -> 128\n",
    "\n",
    "    Hidden ReLU Linear 128 -> 64\n",
    "\n",
    "    Hidden ReLU Linear 64 -> 32\n",
    "\n",
    "    Hidden ReLU Linear 32 -> 16\n",
    "\n",
    "    Output Sigmoid Linear 16 -> 1"
   ]
  }
 ],
 "metadata": {
  "kernelspec": {
   "display_name": "ml_project",
   "language": "python",
   "name": "python3"
  },
  "language_info": {
   "codemirror_mode": {
    "name": "ipython",
    "version": 3
   },
   "file_extension": ".py",
   "mimetype": "text/x-python",
   "name": "python",
   "nbconvert_exporter": "python",
   "pygments_lexer": "ipython3",
   "version": "3.10.16"
  }
 },
 "nbformat": 4,
 "nbformat_minor": 2
}
